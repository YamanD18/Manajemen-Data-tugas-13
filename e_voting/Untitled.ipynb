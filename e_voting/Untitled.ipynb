{
 "cells": [
  {
   "cell_type": "code",
   "execution_count": 2,
   "id": "ec5900b3-71d8-4ef4-8f13-4a88412cf88d",
   "metadata": {},
   "outputs": [
    {
     "name": "stdout",
     "output_type": "stream",
     "text": [
      "\n",
      "=== E-Voting Ketua Organisasi Mahasiswa ===\n",
      "1. Tambah Pemilih\n",
      "2. Tambah Calon\n",
      "3. Voting\n",
      "4. Lihat Hasil Sementara\n",
      "5. Statistik Pemilu\n",
      "0. Keluar\n"
     ]
    },
    {
     "name": "stdin",
     "output_type": "stream",
     "text": [
      "Pilih menu:  1\n",
      "ID Pemilih:  11\n",
      "Nama:  Reval\n",
      "Jurusan:  Teknik Informatika\n"
     ]
    },
    {
     "name": "stdout",
     "output_type": "stream",
     "text": [
      "Pemilih ditambahkan.\n",
      "\n",
      "=== E-Voting Ketua Organisasi Mahasiswa ===\n",
      "1. Tambah Pemilih\n",
      "2. Tambah Calon\n",
      "3. Voting\n",
      "4. Lihat Hasil Sementara\n",
      "5. Statistik Pemilu\n",
      "0. Keluar\n"
     ]
    },
    {
     "name": "stdin",
     "output_type": "stream",
     "text": [
      "Pilih menu:  2\n",
      "ID Calon:  22\n",
      "Nama:  Steven Jun\n",
      "Visi Misi:  Memajukan TI\n"
     ]
    },
    {
     "name": "stdout",
     "output_type": "stream",
     "text": [
      "Calon ditambahkan.\n",
      "\n",
      "=== E-Voting Ketua Organisasi Mahasiswa ===\n",
      "1. Tambah Pemilih\n",
      "2. Tambah Calon\n",
      "3. Voting\n",
      "4. Lihat Hasil Sementara\n",
      "5. Statistik Pemilu\n",
      "0. Keluar\n"
     ]
    },
    {
     "name": "stdin",
     "output_type": "stream",
     "text": [
      "Pilih menu:  3\n",
      "ID Pemilih:  11\n",
      "ID Calon:  22\n"
     ]
    },
    {
     "name": "stdout",
     "output_type": "stream",
     "text": [
      "Voting berhasil.\n",
      "\n",
      "=== E-Voting Ketua Organisasi Mahasiswa ===\n",
      "1. Tambah Pemilih\n",
      "2. Tambah Calon\n",
      "3. Voting\n",
      "4. Lihat Hasil Sementara\n",
      "5. Statistik Pemilu\n",
      "0. Keluar\n"
     ]
    },
    {
     "name": "stdin",
     "output_type": "stream",
     "text": [
      "Pilih menu:  3\n",
      "ID Pemilih:  4\n",
      "ID Calon:  22\n"
     ]
    },
    {
     "name": "stdout",
     "output_type": "stream",
     "text": [
      "ID Pemilih tidak ditemukan.\n",
      "\n",
      "=== E-Voting Ketua Organisasi Mahasiswa ===\n",
      "1. Tambah Pemilih\n",
      "2. Tambah Calon\n",
      "3. Voting\n",
      "4. Lihat Hasil Sementara\n",
      "5. Statistik Pemilu\n",
      "0. Keluar\n"
     ]
    },
    {
     "name": "stdin",
     "output_type": "stream",
     "text": [
      "Pilih menu:  3\n",
      "ID Pemilih:  11\n",
      "ID Calon:  22\n"
     ]
    },
    {
     "name": "stdout",
     "output_type": "stream",
     "text": [
      "Pemilih sudah pernah memilih.\n",
      "\n",
      "=== E-Voting Ketua Organisasi Mahasiswa ===\n",
      "1. Tambah Pemilih\n",
      "2. Tambah Calon\n",
      "3. Voting\n",
      "4. Lihat Hasil Sementara\n",
      "5. Statistik Pemilu\n",
      "0. Keluar\n"
     ]
    },
    {
     "name": "stdin",
     "output_type": "stream",
     "text": [
      "Pilih menu:  4\n"
     ]
    },
    {
     "name": "stdout",
     "output_type": "stream",
     "text": [
      "\n",
      "=== Hasil Sementara ===\n",
      "Ardi (CL001) - Suara: 1\n",
      "andi Cobra (2314) - Suara: 0\n",
      "Steven Jun (22) - Suara: 1\n",
      "\n",
      "=== E-Voting Ketua Organisasi Mahasiswa ===\n",
      "1. Tambah Pemilih\n",
      "2. Tambah Calon\n",
      "3. Voting\n",
      "4. Lihat Hasil Sementara\n",
      "5. Statistik Pemilu\n",
      "0. Keluar\n"
     ]
    },
    {
     "name": "stdin",
     "output_type": "stream",
     "text": [
      "Pilih menu:  5\n"
     ]
    },
    {
     "name": "stdout",
     "output_type": "stream",
     "text": [
      "\n",
      "=== Statistik Pemilu ===\n",
      "Total Pemilih      : 5\n",
      "Sudah Memilih      : 2\n",
      "Partisipasi        : 40.00%\n",
      "Pemenang sementara : Ardi (1 suara)\n",
      "\n",
      "=== E-Voting Ketua Organisasi Mahasiswa ===\n",
      "1. Tambah Pemilih\n",
      "2. Tambah Calon\n",
      "3. Voting\n",
      "4. Lihat Hasil Sementara\n",
      "5. Statistik Pemilu\n",
      "0. Keluar\n"
     ]
    },
    {
     "name": "stdin",
     "output_type": "stream",
     "text": [
      "Pilih menu:  0\n"
     ]
    }
   ],
   "source": [
    "from modul import pemilih, calon, voting, statistik\n",
    "\n",
    "def menu():\n",
    "    while True:\n",
    "        print(\"\\n=== E-Voting Ketua Organisasi Mahasiswa ===\")\n",
    "        print(\"1. Tambah Pemilih\")\n",
    "        print(\"2. Tambah Calon\")\n",
    "        print(\"3. Voting\")\n",
    "        print(\"4. Lihat Hasil Sementara\")\n",
    "        print(\"5. Statistik Pemilu\")\n",
    "        print(\"0. Keluar\")\n",
    "        pilihan = input(\"Pilih menu: \")\n",
    "\n",
    "        if pilihan == \"1\":\n",
    "            id = input(\"ID Pemilih: \")\n",
    "            nama = input(\"Nama: \")\n",
    "            jurusan = input(\"Jurusan: \")\n",
    "            if pemilih.tambah_pemilih(id, nama, jurusan):\n",
    "                print(\"Pemilih ditambahkan.\")\n",
    "            else:\n",
    "                print(\"ID sudah terdaftar.\")\n",
    "\n",
    "        elif pilihan == \"2\":\n",
    "            id = input(\"ID Calon: \")\n",
    "            nama = input(\"Nama: \")\n",
    "            visi = input(\"Visi Misi: \")\n",
    "            if calon.tambah_calon(id, nama, visi):\n",
    "                print(\"Calon ditambahkan.\")\n",
    "            else:\n",
    "                print(\"ID sudah terdaftar.\")\n",
    "\n",
    "        elif pilihan == \"3\":\n",
    "            id_pemilih = input(\"ID Pemilih: \")\n",
    "            id_calon = input(\"ID Calon: \")\n",
    "            print(voting.proses_voting(id_pemilih, id_calon))\n",
    "\n",
    "        elif pilihan == \"4\":\n",
    "            data = calon.semua_calon()\n",
    "            print(\"\\n=== Hasil Sementara ===\")\n",
    "            for c in data:\n",
    "                print(f\"{c['nama']} ({c['id']}) - Suara: {c['jumlah_suara']}\")\n",
    "\n",
    "        elif pilihan == \"5\":\n",
    "            s = statistik.hitung_statistik()\n",
    "            print(\"\\n=== Statistik Pemilu ===\")\n",
    "            print(f\"Total Pemilih      : {s['total_pemilih']}\")\n",
    "            print(f\"Sudah Memilih      : {s['sudah_memilih']}\")\n",
    "            print(f\"Partisipasi        : {s['partisipasi']:.2f}%\")\n",
    "            if s['pemenang']:\n",
    "                print(f\"Pemenang sementara : {s['pemenang']['nama']} ({s['pemenang']['jumlah_suara']} suara)\")\n",
    "            else:\n",
    "                print(\"Belum ada suara masuk.\")\n",
    "\n",
    "        elif pilihan == \"0\":\n",
    "            break\n",
    "        else:\n",
    "            print(\"Pilihan tidak valid.\")\n",
    "\n",
    "if __name__ == \"__main__\":\n",
    "    menu()"
   ]
  }
 ],
 "metadata": {
  "kernelspec": {
   "display_name": "Python 3 (ipykernel)",
   "language": "python",
   "name": "python3"
  },
  "language_info": {
   "codemirror_mode": {
    "name": "ipython",
    "version": 3
   },
   "file_extension": ".py",
   "mimetype": "text/x-python",
   "name": "python",
   "nbconvert_exporter": "python",
   "pygments_lexer": "ipython3",
   "version": "3.12.7"
  }
 },
 "nbformat": 4,
 "nbformat_minor": 5
}
